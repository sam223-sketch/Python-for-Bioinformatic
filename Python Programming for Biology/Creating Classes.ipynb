{
 "cells": [
  {
   "cell_type": "markdown",
   "metadata": {},
   "source": [
    "# Object Orientation "
   ]
  },
  {
   "cell_type": "code",
   "execution_count": 1,
   "metadata": {},
   "outputs": [],
   "source": [
    "class square:\n",
    "    def __init__(self):\n",
    "        self.side = 1"
   ]
  },
  {
   "cell_type": "markdown",
   "metadata": {},
   "source": [
    "# To instantiate a class, you need to use function notation. This is like a function without parameters that returns a new instance of the class.Let’s see an example, the use of the Square class, with the creation of the instance Bob:"
   ]
  },
  {
   "cell_type": "code",
   "execution_count": 3,
   "metadata": {},
   "outputs": [
    {
     "data": {
      "text/plain": [
       "1"
      ]
     },
     "execution_count": 3,
     "metadata": {},
     "output_type": "execute_result"
    }
   ],
   "source": [
    "Bob = square()\n",
    "Bob.side # the output of Bob.side will be 1"
   ]
  },
  {
   "cell_type": "markdown",
   "metadata": {},
   "source": [
    "# It is possible to change the value of the attribute side of the instance Bob: \n"
   ]
  },
  {
   "cell_type": "code",
   "execution_count": 7,
   "metadata": {},
   "outputs": [
    {
     "data": {
      "text/plain": [
       "5"
      ]
     },
     "execution_count": 7,
     "metadata": {},
     "output_type": "execute_result"
    }
   ],
   "source": [
    "Bob.side = 5 # Assesing a new value to side\n",
    "\n",
    "Bob.side  # Bob.side will now give a result of 5"
   ]
  },
  {
   "cell_type": "markdown",
   "metadata": {},
   "source": [
    "# Applying classes in Genomic sequencing "
   ]
  },
  {
   "cell_type": "code",
   "execution_count": 46,
   "metadata": {},
   "outputs": [
    {
     "data": {
      "text/plain": [
       "'ATGGAGAGCCTTGTTCTTGGTGTCAA'"
      ]
     },
     "execution_count": 46,
     "metadata": {},
     "output_type": "execute_result"
    }
   ],
   "source": [
    "class Sequence:\n",
    "    transcription_table = {'A': 'U', 'T': 'A', 'C': 'G', 'G': 'C'}\n",
    "    enzyme_dictionary = {'EcoRI': 'GAATTC', 'EcoRV': 'GATATC'}\n",
    "    \n",
    "    # The method __init__ is used to set the value of seqstring in each instance\n",
    "    # This function converts lower case sequence to upper case sequence\n",
    "    def __init__(self, seqstring):\n",
    "        self.seqstring = seqstring.upper()\n",
    "    \n",
    "    # This function calculates how many restriction sites a sequence has for a given enzyme\n",
    "    def restriction(self, enzyme):\n",
    "        try:\n",
    "            enzyme_target = Sequence.enzyme_dictionary[enzyme]\n",
    "            return self.seqstring.count(enzyme_target)\n",
    "        except KeyError:\n",
    "            return 0\n",
    "    \n",
    "    # This function transcribes genomic sequence\n",
    "    def transcription(self):\n",
    "        tt = \"\"\n",
    "        for letter in self.seqstring:\n",
    "            if letter in 'ATCG':\n",
    "                tt += self.transcription_table[letter]\n",
    "        return tt\n",
    "    \n",
    "    \n",
    "\n",
    "\n",
    "# First create a variele and feed Sequence() with genomic sequence\n",
    "\n",
    "# Second, use the function created seqstring to excute \n",
    "\n",
    "# Example of sequence convertion from lower to upper case\n",
    "\n",
    "genome = Sequence('atggagagccttgttcttggtgtcaa')\n",
    "new_genome = Sequence('atgatatcggagaggatatcggtgtcaa')\n",
    "genome.seqstring"
   ]
  },
  {
   "cell_type": "code",
   "execution_count": 17,
   "metadata": {},
   "outputs": [
    {
     "data": {
      "text/plain": [
       "'UACCUCUCGGAACAAGAACCACAGUU'"
      ]
     },
     "execution_count": 17,
     "metadata": {},
     "output_type": "execute_result"
    }
   ],
   "source": [
    "# The class Squence also has a function transcription() which transcibes a genomic sequence\n",
    "genome.transcription()"
   ]
  },
  {
   "cell_type": "code",
   "execution_count": 47,
   "metadata": {},
   "outputs": [
    {
     "data": {
      "text/plain": [
       "2"
      ]
     },
     "execution_count": 47,
     "metadata": {},
     "output_type": "execute_result"
    }
   ],
   "source": [
    "# Calculating the number of 'EcoRV' restriction enzymes found in the sequence\n",
    "new_genome.restriction('EcoRV')"
   ]
  },
  {
   "cell_type": "markdown",
   "metadata": {},
   "source": [
    "# Inheritance:\n",
    "# Inheritance of classes implies that the new (child) class “inherits” the methods and attributes of the base class\n",
    "# An example a class called Plasmid that is based on the Sequence class. Because plasmid is a type of DNA sequence, we created the Plasmid class which inherits methods and properties from Sequence. We also defined methods and attributes that are exclusive to this new class, like AbResDict and ABres.The method ABres is used to know if our plasmid has resistance to a particular antibiotic, whereas the AbResDict attribute has the information of the regions that characterize the different antibiotic resistances."
   ]
  },
  {
   "cell_type": "code",
   "execution_count": 53,
   "metadata": {},
   "outputs": [],
   "source": [
    "# The Base class\n",
    "class Sequence:\n",
    "    transcription_table = {'A': 'U', 'T': 'A', 'C': 'G', 'G': 'C'}\n",
    "    enzyme_dictionary = {'EcoRI': 'GAATTC', 'EcoRV': 'GATATC'}\n",
    "    \n",
    "    # The new(Child) class which innherits from the base class Sequence\n",
    "    class Plasmid(Sequence):\n",
    "        ab_res_dict = {'Tet': 'ctagcat', 'Amp': 'CACTACTG'}\n",
    "        def __init__(self, seqstring):\n",
    "            sequence.__init__(self, seqstring)\n",
    "        def ab_res(self, ab):\n",
    "            if self.ab_res_dict[ab] in self.seqstring:\n",
    "                return True\n",
    "            return False\n",
    "\n",
    "        \n"
   ]
  }
 ],
 "metadata": {
  "kernelspec": {
   "display_name": "Python 3",
   "language": "python",
   "name": "python3"
  },
  "language_info": {
   "codemirror_mode": {
    "name": "ipython",
    "version": 3
   },
   "file_extension": ".py",
   "mimetype": "text/x-python",
   "name": "python",
   "nbconvert_exporter": "python",
   "pygments_lexer": "ipython3",
   "version": "3.7.0"
  }
 },
 "nbformat": 4,
 "nbformat_minor": 2
}
